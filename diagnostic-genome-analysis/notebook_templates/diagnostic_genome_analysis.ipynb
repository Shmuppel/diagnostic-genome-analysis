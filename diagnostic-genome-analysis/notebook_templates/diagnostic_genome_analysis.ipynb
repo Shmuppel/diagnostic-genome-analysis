{
 "cells": [
  {
   "cell_type": "markdown",
   "metadata": {},
   "source": [
    "# Diagnostic Genome Analysis"
   ]
  },
  {
   "cell_type": "code",
   "execution_count": null,
   "metadata": {},
   "outputs": [],
   "source": [
    "sample = snakemake.wildcards[0]\n",
    "print(\"Analysis for sample: \" + str(sample))"
   ]
  },
  {
   "cell_type": "markdown",
   "metadata": {},
   "source": [
    "### Importing data from pipeline output"
   ]
  },
  {
   "cell_type": "code",
   "execution_count": null,
   "metadata": {
    "scrolled": true
   },
   "outputs": [],
   "source": [
    "import pandas\n",
    "import numpy\n",
    "\n",
    "annovar_output = snakemake.input[2] #\"A.hg19_multianno.txt\"\n",
    "\n",
    "columns_of_interest = [\"Chr\", \"Start\", \"End\", \"Ref\", \"Alt\", \n",
    "                       \"Func.refGene\", \"Gene.refGene\", \"avsnp138\", \n",
    "                       \"SIFT_score\", \"Polyphen2_HDIV_score\", \"Polyphen2_HDIV_pred\",\n",
    "                       \"CLNDN\", \"CLNDISDB\", \"CLNSIG\", \"CLNSIG\"]\n",
    "\n",
    "datatypes = {'SIFT_score': numpy.float64, \n",
    "             'Polyphen2_HDIV_score': numpy.float64}\n",
    "\n",
    "annovar = pandas.read_csv(annovar_output, sep=\"\\t\", na_values = '.', \n",
    "                          usecols=columns_of_interest, dtype=datatypes) \n",
    "\n",
    "annovar.head()"
   ]
  },
  {
   "cell_type": "markdown",
   "metadata": {},
   "source": [
    "## Variant data exploration"
   ]
  },
  {
   "cell_type": "markdown",
   "metadata": {},
   "source": [
    "### Significant variants (based on SIFT and Polyphen2 HDIV scores)"
   ]
  },
  {
   "cell_type": "code",
   "execution_count": null,
   "metadata": {},
   "outputs": [],
   "source": [
    "annovar = annovar.sort_values(by=['SIFT_score', 'Polyphen2_HDIV_score'], ascending = False)\n",
    "annovar = annovar.fillna(0)\n",
    "annovar.head(25)"
   ]
  },
  {
   "cell_type": "markdown",
   "metadata": {},
   "source": [
    "### Manhattan plot of variants"
   ]
  },
  {
   "cell_type": "code",
   "execution_count": null,
   "metadata": {},
   "outputs": [],
   "source": [
    "from plotly.subplots import make_subplots\n",
    "import plotly.graph_objects as plotly_go\n",
    "import re \n",
    "\n",
    "# get all unique chromosomes used for analysis.\n",
    "chromosomes = annovar[\"Chr\"].unique()\n",
    "# sorts chromosomes by their number.\n",
    "chromosomes = sorted(chromosomes, key=lambda chromosome:\n",
    "                     [int(number) if number.isdigit() else number \n",
    "                      for number in re.split(r'(\\d+)', chromosome)])\n",
    "\n",
    "# make manhattan plot of variants.\n",
    "fig = make_subplots(rows=1, cols=len(chromosomes), shared_yaxes=True, horizontal_spacing=0)\n",
    "axes_labels = [dict(x=0.5, y=-0.17, showarrow=False,\n",
    "                    text=\"Chromosome\", font_size=15,\n",
    "                    xref=\"paper\", yref=\"paper\"),\n",
    "               dict(x=-0.07, y=0.5,\n",
    "                    showarrow=False,\n",
    "                    text=\"SIFT Score\", font_size=15, textangle=-90,\n",
    "                    xref=\"paper\", yref=\"paper\")]\n",
    "\n",
    "fig.update_layout(title_text=\"Manhattan Plot of annotated sample \" + sample + \"'s variants\", \n",
    "                  title_x=0.5, \n",
    "                  annotations=axes_labels)\n",
    "\n",
    "# plot variants per chromosome.\n",
    "for i, chromosome in enumerate(chromosomes):\n",
    "    chr_variant_coord = annovar[\"Start\"][annovar[\"Chr\"] == chromosome]\n",
    "    chr_variant_sift = annovar[\"SIFT_score\"][annovar[\"Chr\"] == chromosome]\n",
    "    chr_variant_avsnp138 = annovar[\"avsnp138\"][annovar[\"Chr\"] == chromosome]\n",
    "    \n",
    "    fig.add_trace(plotly_go.Scattergl(\n",
    "        name = chromosome,\n",
    "        x = chr_variant_coord,\n",
    "        y = chr_variant_sift,\n",
    "        text = chr_variant_avsnp138,\n",
    "        hoverinfo = \"text\",\n",
    "        mode = \"markers\"\n",
    "    ), row=1, col=i + 1)\n",
    "    \n",
    "    fig.update_xaxes(title_text=chromosome, row=1, col=i + 1, showticklabels=False)\n",
    "\n",
    "fig.show()"
   ]
  },
  {
   "cell_type": "code",
   "execution_count": null,
   "metadata": {},
   "outputs": [],
   "source": []
  }
 ],
 "metadata": {
  "kernelspec": {
   "display_name": "Python 3",
   "language": "python",
   "name": "python3"
  },
  "language_info": {
   "codemirror_mode": {
    "name": "ipython",
    "version": 3
   },
   "file_extension": ".py",
   "mimetype": "text/x-python",
   "name": "python",
   "nbconvert_exporter": "python",
   "pygments_lexer": "ipython3",
   "version": "3.7.0"
  }
 },
 "nbformat": 4,
 "nbformat_minor": 1
}
